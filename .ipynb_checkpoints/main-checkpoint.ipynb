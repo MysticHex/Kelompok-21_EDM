{
 "cells": [
  {
   "cell_type": "code",
   "execution_count": null,
   "id": "31167559",
   "metadata": {},
   "outputs": [
    {
     "ename": "",
     "evalue": "",
     "output_type": "error",
     "traceback": [
      "\u001b[1;31mRunning cells with 'Python' requires the ipykernel package.\n",
      "\u001b[1;31m<a href='command:jupyter.createPythonEnvAndSelectController'>Create a Python Environment</a> with the required packages.\n",
      "\u001b[1;31mOr install 'ipykernel' using the command: '/Users/andikanajmi/Code/Kelompok-21_EDM/.venv/bin/python -m pip install ipykernel -U --user --force-reinstall'"
     ]
    }
   ],
   "source": [
    "import pandas as pd\n",
    "import numpy as np\n",
    "from sklearn.model_selection import train_test_split\n",
    "from sklearn.preprocessing import LabelEncoder\n",
    "from sklearn.impute import SimpleImputer\n",
    "from sklearn.ensemble import RandomForestRegressor\n",
    "from sklearn.metrics import mean_squared_error\n",
    "import joblib\n",
    "import matplotlib.pyplot as plt"
   ]
  },
  {
   "cell_type": "code",
   "execution_count": null,
   "id": "912515d5",
   "metadata": {},
   "outputs": [],
   "source": [
    "df = pd.read_csv('jobstreet_jobs_cleaned_with_category.csv')\n",
    "\n",
    "df.describe()\n",
    "df.info()\n",
    "\n",
    "plt.figure(figsize=(10, 6))\n",
    "df['Gaji Min'].hist(bins=50)\n",
    "plt.title('Gaji Min Distribution')\n",
    "plt.xlabel('Gaji Min')\n",
    "\n",
    "plt.figure(figsize=(10, 6))\n",
    "df['Gaji Max'].hist(bins=50)\n",
    "plt.title('Gaji Max Distribution')\n",
    "plt.xlabel('Gaji Max')"
   ]
  },
  {
   "cell_type": "code",
   "execution_count": null,
   "id": "eaffdf54",
   "metadata": {},
   "outputs": [],
   "source": [
    "df['Gaji_Min'] = pd.to_numeric(df['Gaji Min'], errors='coerce')\n",
    "df['Gaji_Max'] = pd.to_numeric(df['Gaji Max'], errors='coerce')\n",
    "df['Gaji_Rata2'] = df[['Gaji_Min', 'Gaji_Max']].mean(axis=1)\n",
    "\n",
    "# Select relevant features and target\n",
    "data = df[['Kategori Lowongan', 'Umur', 'Pendidikan', 'Title', 'Link', 'Gaji_Rata2']]\n",
    "\n",
    "# Drop rows where target is missing\n",
    "data = data.dropna(subset=['Gaji_Rata2'])\n",
    "\n",
    "# Impute missing values for 'Umur' with median\n",
    "imputer_umur = SimpleImputer(strategy='median')\n",
    "data['Umur'] = imputer_umur.fit_transform(data[['Umur']]).ravel()\n",
    "\n",
    "imputer_pend = SimpleImputer(strategy='most_frequent')\n",
    "data['Pendidikan'] = imputer_pend.fit_transform(data[['Pendidikan']]).ravel()\n",
    "\n",
    "le_kategori = LabelEncoder()\n",
    "data['Kategori_Encoded'] = le_kategori.fit_transform(data['Kategori Lowongan'])\n",
    "\n",
    "le_pendidikan = LabelEncoder()\n",
    "data['Pendidikan_Encoded'] = le_pendidikan.fit_transform(data['Pendidikan'])\n",
    "\n",
    "X = data[['Kategori_Encoded', 'Umur', 'Pendidikan_Encoded']]\n",
    "y = data['Gaji_Rata2']"
   ]
  },
  {
   "cell_type": "code",
   "execution_count": null,
   "id": "cd09a3b1",
   "metadata": {},
   "outputs": [],
   "source": [
    "X_train, X_test, y_train, y_test = train_test_split(X, y, test_size=0.2, random_state=42)"
   ]
  },
  {
   "cell_type": "code",
   "execution_count": null,
   "id": "e5d342a8",
   "metadata": {},
   "outputs": [],
   "source": [
    "from sklearn.linear_model import LinearRegression\n",
    "from sklearn.metrics import mean_squared_error, r2_score\n",
    "\n",
    "# Random Forest\n",
    "rf = RandomForestRegressor(n_estimators=100, random_state=42)\n",
    "rf.fit(X_train, y_train)\n",
    "rf_pred = rf.predict(X_test)\n",
    "rf_r2 = r2_score(y_test, rf_pred)\n",
    "rf_rmse = np.sqrt(mean_squared_error(y_test, rf_pred))\n",
    "\n",
    "# Linear Regression\n",
    "lr = LinearRegression()\n",
    "lr.fit(X_train, y_train)\n",
    "lr_pred = lr.predict(X_test)\n",
    "lr_r2 = r2_score(y_test, lr_pred)\n",
    "lr_rmse = np.sqrt(mean_squared_error(y_test, lr_pred))\n",
    "\n",
    "# XGBoost\n",
    "import xgboost as xgb\n",
    "xgb_model = xgb.XGBRegressor(n_estimators=100, random_state=42)\n",
    "xgb_model.fit(X_train, y_train)\n",
    "xgb_pred = xgb_model.predict(X_test)\n",
    "xgb_r2 = r2_score(y_test, xgb_pred)\n",
    "xgb_rmse = np.sqrt(mean_squared_error(y_test, xgb_pred))\n",
    "\n",
    "# Tampilkan hasil\n",
    "print(\"Random Forest:    R2 = {:.2f}, RMSE = {:.2f}\".format(rf_r2, rf_rmse))\n",
    "print(\"Linear Regression: R2 = {:.2f}, RMSE = {:.2f}\".format(lr_r2, lr_rmse))\n",
    "print(\"XGBoost:          R2 = {:.2f}, RMSE = {:.2f}\".format(xgb_r2, xgb_rmse))\n",
    "\n",
    "model_scores = {\n",
    "    rf: rf_r2,\n",
    "    lr: lr_r2,\n",
    "    xgb_model: xgb_r2\n",
    "}\n",
    "\n",
    "best_model = max(model_scores, key=model_scores.get)\n",
    "\n",
    "print(f\"Model terbaik: {type(best_model).__name__}\")\n",
    "\n",
    "joblib.dump(best_model, 'gaji_prediksi_model.joblib')\n",
    "\n"
   ]
  },
  {
   "cell_type": "code",
   "execution_count": null,
   "id": "a42259ce",
   "metadata": {},
   "outputs": [],
   "source": [
    "joblib.dump(le_kategori, 'label_encoder_kategori.joblib')\n",
    "joblib.dump(le_pendidikan, 'label_encoder_pendidikan.joblib')\n",
    "joblib.dump(imputer_umur, 'imputer_umur.joblib')\n",
    "joblib.dump(imputer_pend, 'imputer_pendidikan.joblib')"
   ]
  },
  {
   "cell_type": "code",
   "execution_count": null,
   "id": "34d5ac4b",
   "metadata": {},
   "outputs": [],
   "source": [
    "data.to_csv('job_data_for_streamlit.csv', index=False)"
   ]
  }
 ],
 "metadata": {
  "kernelspec": {
   "display_name": "Python 3",
   "language": "python",
   "name": "python3"
  },
  "language_info": {
   "codemirror_mode": {
    "name": "ipython",
    "version": 3
   },
   "file_extension": ".py",
   "mimetype": "text/x-python",
   "name": "python",
   "nbconvert_exporter": "python",
   "pygments_lexer": "ipython3",
   "version": "3.12.2"
  }
 },
 "nbformat": 4,
 "nbformat_minor": 5
}
